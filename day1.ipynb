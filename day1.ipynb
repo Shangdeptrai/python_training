{
 "cells": [
  {
   "cell_type": "code",
   "execution_count": 1,
   "id": "0a4cce46-8fdc-4035-9f08-e97fafda84b1",
   "metadata": {},
   "outputs": [
    {
     "name": "stdout",
     "output_type": "stream",
     "text": [
      "hehe\n"
     ]
    }
   ],
   "source": [
    "print(\"hehe\")"
   ]
  },
  {
   "cell_type": "code",
   "execution_count": null,
   "id": "3a312e66-4417-410f-84fe-7e31b07ccb1f",
   "metadata": {},
   "outputs": [],
   "source": []
  }
 ],
 "metadata": {
  "kernelspec": {
   "display_name": "Python 3 (ipykernel)",
   "language": "python",
   "name": "python3"
  },
  "language_info": {
   "codemirror_mode": {
    "name": "ipython",
    "version": 3
   },
   "file_extension": ".py",
   "mimetype": "text/x-python",
   "name": "python",
   "nbconvert_exporter": "python",
   "pygments_lexer": "ipython3",
   "version": "3.12.5"
  }
 },
 "nbformat": 4,
 "nbformat_minor": 5
}
